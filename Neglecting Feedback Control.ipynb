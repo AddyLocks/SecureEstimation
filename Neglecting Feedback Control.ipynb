{
 "cells": [
  {
   "cell_type": "markdown",
   "metadata": {},
   "source": [
    "The complete equation of the cyber-physical system is as follows:\n",
    "\n",
    "<img src=\"FullEquation.PNG\">\n",
    "\n",
    "For the purposes of this code however, we neglect the attack on actuators and also neglect the control law. Therefore the equation used will be as follows:\n",
    "\n",
    "<img src=\"InitialEquation.PNG\">\n",
    "\n",
    "where e(t) is the attack vector. We try to correctly estimate the state matrix x(t) despite the compromised sensor readings."
   ]
  },
  {
   "cell_type": "markdown",
   "metadata": {},
   "source": [
    "We will take A as a 25x25 sized real matrix. The number of sensors will be taken as 20. Therefore C is a 20x25 real valued matrix. The values will be gaussian distributed."
   ]
  },
  {
   "cell_type": "code",
   "execution_count": 1,
   "metadata": {},
   "outputs": [],
   "source": [
    "import numpy as np\n",
    "import matplotlib.pyplot as plt"
   ]
  },
  {
   "cell_type": "code",
   "execution_count": 2,
   "metadata": {},
   "outputs": [],
   "source": [
    "def SpectralRadiusNormalized(A):\n",
    "    return A / np.amax(np.absolute(np.linalg.eigvals(A)))\n",
    "\n",
    "def GradientDescent(A,C,Y,T,P,N,iterations=10000, learning_rate=0.01):\n",
    "    \n",
    "    K = np.zeros((T, P, N))  # Variable needed for computing gradient\n",
    "    K[0,:,:] = C\n",
    "    for i in range(1, T):\n",
    "        K[i,:,:] = np.matmul(C , A ** i)  # size is p * n\n",
    "    \n",
    "    x = np.zeros((N, 1))  # initial guess\n",
    "    for i in range(0, iterations):\n",
    "        x = x - (learning_rate * GradientMatrix(K,x,Y,N,P,T))\n",
    "    return x\n",
    "    \n",
    "def GradientMatrix(K,x,Y,N,P,T):\n",
    "    \n",
    "    delLoss = np.zeros((N, 1))  # the gradient\n",
    "    I  = np.zeros((T,P,N))   # (T,P,N)\n",
    "    M  = np.matmul(K,x) - Y  # (T,P,1)\n",
    "    Mp = (np.sum(M**2, axis = 0)) ** -0.5  # (P,1)\n",
    "    \n",
    "    for n in range(0, N):\n",
    "        I[:,:,n] = K[:,:,n] * M[:,:,0]\n",
    "        \n",
    "    It = np.sum(I, axis = 0)  # (P,N)\n",
    "    delLoss[:,0] = np.sum(It * Mp, axis = 0)\n",
    "    \n",
    "    return delLoss\n",
    "\n",
    "def Full(N,P,T,q,errormean=0,errordeviation=2,mean=0,deviation=2):\n",
    "    \n",
    "    A = SpectralRadiusNormalized(np.random.normal(mean, deviation, (N, N)))\n",
    "    C = np.random.normal(mean, deviation, (P, N))\n",
    "    X = np.random.normal(mean, deviation, (T, N, 1))  # State Matrix\n",
    "    E = np.random.normal(errormean, errordeviation, (T, P, 1))  # Error Vector\n",
    "    Y = np.random.normal(mean, deviation, (T, P, 1))  # Output Matrix\n",
    "    \n",
    "    Y[0,:,:] = np.matmul(C , X[0,:,:])\n",
    "    \n",
    "    for i in range(1, T):\n",
    "        X[i,:,:] = np.matmul(A ** i , X[0,:,:])\n",
    "        Y[i,:,:] = np.matmul(C , X[i,:,:])\n",
    "        \n",
    "    E[:, q: ,:] = 0\n",
    "    Y = np.matmul(C, X) + E\n",
    "    x = GradientDescent(A,C,Y,T,P,N,1000,0.001)\n",
    "    \n",
    "    error = []\n",
    "    for n in range(0, N):\n",
    "        error.append(float((x[n] - X[0,n,:])/x[n]))\n",
    "    \n",
    "    return np.asarray(error)"
   ]
  },
  {
   "cell_type": "code",
   "execution_count": 3,
   "metadata": {},
   "outputs": [],
   "source": [
    "N = 25   # Size of A\n",
    "P = 20   # No. of sensors\n",
    "T = 15    # Time Steps\n",
    "thresholderror = 0.07\n",
    "averagecorrectstates = 0\n",
    "plotting = []\n",
    "\n",
    "for q in range(0, P+1):  # q is number of sensors compromised\n",
    "\n",
    "    iterations = 100\n",
    "    correctstatesarray = np.zeros(N)\n",
    "\n",
    "    for i in range(0, iterations):\n",
    "        correctstates = np.size(np.where(np.absolute(Full(N,P,T,q,0,1,0,1)) < thresholderror))\n",
    "        averagecorrectstates = (i * averagecorrectstates + correctstates)/(i+1)\n",
    "    \n",
    "    plotting.append(averagecorrectstates)\n"
   ]
  },
  {
   "cell_type": "code",
   "execution_count": 4,
   "metadata": {},
   "outputs": [
    {
     "data": {
      "image/png": "[encoded data removed]",
      "text/plain": [
       "<Figure size 432x288 with 1 Axes>"
      ]
     },
     "metadata": {
      "needs_background": "light"
     },
     "output_type": "display_data"
    }
   ],
   "source": [
    "plotting[:] = [i / N for i in plotting]\n",
    "plt.plot(plotting)\n",
    "plt.ylabel(\"Fraction of states Correctly Estimated\")\n",
    "plt.xlabel('Number of Compromised Sensors (q)')\n",
    "plt.show()"
   ]
  }
 ],
 "metadata": {
  "kernelspec": {
   "display_name": "Python 3",
   "language": "python",
   "name": "python3"
  },
  "language_info": {
   "codemirror_mode": {
    "name": "ipython",
    "version": 3
   },
   "file_extension": ".py",
   "mimetype": "text/x-python",
   "name": "python",
   "nbconvert_exporter": "python",
   "pygments_lexer": "ipython3",
   "version": "3.6.9"
  }
 },
 "nbformat": 4,
 "nbformat_minor": 2
}
