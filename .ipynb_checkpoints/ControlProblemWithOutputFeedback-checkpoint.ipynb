{
 "cells": [
  {
   "cell_type": "code",
   "execution_count": 1,
   "metadata": {},
   "outputs": [],
   "source": [
    "import numpy as np\n",
    "import matplotlib.pyplot as plt\n",
    "import scipy.linalg\n",
    "import time\n",
    "import random"
   ]
  },
  {
   "cell_type": "code",
   "execution_count": 2,
   "metadata": {},
   "outputs": [],
   "source": [
    "# Preparing the Problem\n",
    "\n",
    "Ac = np.array( [ [ -0.15 , 1.90 , 1.55 ] , [ 0.5 , -0.3 , 0.1 ] , [ 0.2  , 0.5 , -2.55 ]] )\n",
    "Bc = np.array( [ [ 0.55 , -0.64 , 0.16 ] , [ 1.69 , 0.38 , 0  ] , [ 0.59 , -1.5 , 1.31 ]] )\n",
    "Cc = np.array( [ [ 1 , 1 , 0 ] , [ 0 , 0 , 1 ] , [ 1 , 1 , 1 ] ] )\n",
    "L  = np.array( [ [ 2 , -1 , -1 , 0 ] , [ -1 , 1 , 0 , 0 ] , [ -1 , 0 , 2 , -1 ] , [ 0 , 0 , -1 , 1 ] ] )\n",
    "F1 = np.array( [ [ 0.7079 , -0.7108 , 0.0000] , [-2.3683 , 2.0355 , -0.0001 ] , [-3.9801 , 5.6377 , -0.0002] ] )\n",
    "F2 = np.array( [ [ 0.0112 , 0.0362 , 0.0067] , [0.0272 , 0.1052 , 0.0247 ] , [0.0905 , 1.9489 , 0.2216] ] )\n",
    "\n",
    "# A, B, C, F matrices for continuous Systems\n",
    "Ac =   np.kron( np.identity(4) , Ac )\n",
    "Bc =   np.kron( np.identity(4) , Bc )\n",
    "Cc =   np.kron( np.identity(4) , Cc )\n",
    "Fc =  -np.kron( np.identity(4) , F1 ) - np.kron( L , F2 )\n",
    "\n"
   ]
  },
  {
   "cell_type": "code",
   "execution_count": 3,
   "metadata": {},
   "outputs": [],
   "source": [
    "def SpectralRadiusNormalized(A):\n",
    "    return A / (np.amax(np.absolute(np.linalg.eigvals(A))) + 0.0001)\n",
    "\n",
    "def Discretize(SamplingPeriod, Ac, Bc, Cc, Fc):\n",
    "    big = np.zeros((24,24))\n",
    "    big[0:12, 0:12] = Ac\n",
    "    big[0:12,12:24] = Bc\n",
    "    bigd = scipy.linalg.expm(big * SamplingPeriod)\n",
    "\n",
    "    A = bigd[ 0:12,  0:12 ]\n",
    "    B = bigd[ 0:12, 12:24 ]\n",
    "    \n",
    "    A = SpectralRadiusNormalized(A)\n",
    "\n",
    "    return A, B, Cc, Fc"
   ]
  },
  {
   "cell_type": "code",
   "execution_count": 4,
   "metadata": {},
   "outputs": [
    {
     "data": {
      "image/png": "[encoded data removed]",
      "text/plain": [
       "<Figure size 432x288 with 1 Axes>"
      ]
     },
     "metadata": {},
     "output_type": "display_data"
    }
   ],
   "source": [
    "A, B, C, F = Discretize(0.01, Ac, Bc, Cc, Fc)\n",
    "alpha = min((np.linalg.eigvals(A))) - 0.00001\n",
    "x_plot = []\n",
    "initialstate = np.array([[-0.527029],\n",
    "                         [ 0.152074],\n",
    "                         [ 1.259488],\n",
    "                         [ 1.018136],\n",
    "                         [ 1.0347  ],\n",
    "                         [-0.066806],\n",
    "                         [-0.221626],\n",
    "                         [ 0.303806],\n",
    "                         [-0.0323  ],\n",
    "                         [ 0.45862 ],\n",
    "                         [-1.113736],\n",
    "                         [ 0.702659]])\n",
    "\n",
    "x = initialstate\n",
    "\n",
    "for i in range(0, 800):\n",
    "    y = np.matmul(C , x)\n",
    "    x = np.matmul(A , x) + np.matmul(B , np.matmul(F , y))\n",
    "    x_plot.append(np.sum(x))\n",
    "\n",
    "    \n",
    "# plt.plot(x_plot)\n",
    "# plt.show()"
   ]
  },
  {
   "cell_type": "code",
   "execution_count": 5,
   "metadata": {},
   "outputs": [],
   "source": [
    "def GradientMatrix(x):\n",
    "    \n",
    "    CX = np.zeros((T, P, 1))\n",
    "    M  = np.zeros((T, P, 1))\n",
    "    SignMatrix  = np.zeros((T, P, 1))    \n",
    "    Anew = np.zeros((N,N))\n",
    "    Anew[:,:] = A[:,:]\n",
    "    X = np.zeros((T , N , 1))\n",
    "    X[0, :, :] = x\n",
    "\n",
    "    for t in range(0, T - 1):\n",
    "        X[t + 1 , : , :] = np.matmul(A, X[t , : , :]) + np.matmul(B , np.matmul(F , np.matmul(C, X[t , : , :])))\n",
    "\n",
    "    for t in range(0, T):\n",
    "        CX[t, :, :] = np.matmul(C, X[t, :, :])\n",
    "\n",
    "    M = Y - CX\n",
    "    SignMatrix[:, :, :] = M[:, :, :]\n",
    "    SignMatrix[SignMatrix <=  0] =  1\n",
    "    SignMatrix[SignMatrix >   0] = -1\n",
    "\n",
    "    Sum = (np.sum(M ** 2, axis = 0)) ** -0.5\n",
    "    \n",
    "    derivative = np.zeros((N, 1))\n",
    "    for n in range(0, N):\n",
    "        Calc = np.zeros((P, 1))\n",
    "        Calc = M[0, :, :] * SignMatrix[0, :, :] * C[:,n:n+1]\n",
    "        for t in range(1, T):\n",
    "            Calc = Calc + M[t, :, :] * SignMatrix[t, :, :] * (np.matmul(C , Anew))[:,n:n+1]\n",
    "            Anew = np.matmul(Anew, A)\n",
    "        derivative[n, 0] = np.sum(Sum * Calc)\n",
    "    return derivative"
   ]
  },
  {
   "cell_type": "code",
   "execution_count": 6,
   "metadata": {},
   "outputs": [
    {
     "ename": "KeyboardInterrupt",
     "evalue": "",
     "output_type": "error",
     "traceback": [
      "\u001b[0;31m---------------------------------------------------------------------------\u001b[0m",
      "\u001b[0;31mKeyboardInterrupt\u001b[0m                         Traceback (most recent call last)",
      "\u001b[0;32m<ipython-input-6-0ff029b55900>\u001b[0m in \u001b[0;36m<module>\u001b[0;34m()\u001b[0m\n\u001b[1;32m     32\u001b[0m \u001b[0;34m\u001b[0m\u001b[0m\n\u001b[1;32m     33\u001b[0m         \u001b[0;32mwhile\u001b[0m \u001b[0miterations\u001b[0m \u001b[0;34m<\u001b[0m \u001b[0;36m10000\u001b[0m\u001b[0;34m:\u001b[0m\u001b[0;34m\u001b[0m\u001b[0;34m\u001b[0m\u001b[0m\n\u001b[0;32m---> 34\u001b[0;31m             \u001b[0mdelLoss\u001b[0m \u001b[0;34m=\u001b[0m \u001b[0mGradientMatrix\u001b[0m\u001b[0;34m(\u001b[0m\u001b[0mX\u001b[0m\u001b[0;34m)\u001b[0m\u001b[0;34m\u001b[0m\u001b[0;34m\u001b[0m\u001b[0m\n\u001b[0m\u001b[1;32m     35\u001b[0m             \u001b[0mX\u001b[0m \u001b[0;34m=\u001b[0m \u001b[0mX\u001b[0m \u001b[0;34m-\u001b[0m \u001b[0;36m0.001\u001b[0m \u001b[0;34m*\u001b[0m \u001b[0mdelLoss\u001b[0m\u001b[0;34m\u001b[0m\u001b[0;34m\u001b[0m\u001b[0m\n\u001b[1;32m     36\u001b[0m             \u001b[0mx_plot\u001b[0m\u001b[0;34m.\u001b[0m\u001b[0mappend\u001b[0m\u001b[0;34m(\u001b[0m\u001b[0mnp\u001b[0m\u001b[0;34m.\u001b[0m\u001b[0msum\u001b[0m\u001b[0;34m(\u001b[0m\u001b[0mnp\u001b[0m\u001b[0;34m.\u001b[0m\u001b[0mabs\u001b[0m\u001b[0;34m(\u001b[0m\u001b[0mX\u001b[0m\u001b[0;34m-\u001b[0m\u001b[0minitialstate\u001b[0m\u001b[0;34m)\u001b[0m\u001b[0;34m)\u001b[0m\u001b[0;34m)\u001b[0m\u001b[0;34m\u001b[0m\u001b[0;34m\u001b[0m\u001b[0m\n",
      "\u001b[0;32m<ipython-input-5-bf7aa85185d3>\u001b[0m in \u001b[0;36mGradientMatrix\u001b[0;34m(x)\u001b[0m\n\u001b[1;32m     27\u001b[0m         \u001b[0mCalc\u001b[0m \u001b[0;34m=\u001b[0m \u001b[0mM\u001b[0m\u001b[0;34m[\u001b[0m\u001b[0;36m0\u001b[0m\u001b[0;34m,\u001b[0m \u001b[0;34m:\u001b[0m\u001b[0;34m,\u001b[0m \u001b[0;34m:\u001b[0m\u001b[0;34m]\u001b[0m \u001b[0;34m*\u001b[0m \u001b[0mSignMatrix\u001b[0m\u001b[0;34m[\u001b[0m\u001b[0;36m0\u001b[0m\u001b[0;34m,\u001b[0m \u001b[0;34m:\u001b[0m\u001b[0;34m,\u001b[0m \u001b[0;34m:\u001b[0m\u001b[0;34m]\u001b[0m \u001b[0;34m*\u001b[0m \u001b[0mC\u001b[0m\u001b[0;34m[\u001b[0m\u001b[0;34m:\u001b[0m\u001b[0;34m,\u001b[0m\u001b[0mn\u001b[0m\u001b[0;34m:\u001b[0m\u001b[0mn\u001b[0m\u001b[0;34m+\u001b[0m\u001b[0;36m1\u001b[0m\u001b[0;34m]\u001b[0m\u001b[0;34m\u001b[0m\u001b[0;34m\u001b[0m\u001b[0m\n\u001b[1;32m     28\u001b[0m         \u001b[0;32mfor\u001b[0m \u001b[0mt\u001b[0m \u001b[0;32min\u001b[0m \u001b[0mrange\u001b[0m\u001b[0;34m(\u001b[0m\u001b[0;36m1\u001b[0m\u001b[0;34m,\u001b[0m \u001b[0mT\u001b[0m\u001b[0;34m)\u001b[0m\u001b[0;34m:\u001b[0m\u001b[0;34m\u001b[0m\u001b[0;34m\u001b[0m\u001b[0m\n\u001b[0;32m---> 29\u001b[0;31m             \u001b[0mCalc\u001b[0m \u001b[0;34m=\u001b[0m \u001b[0mCalc\u001b[0m \u001b[0;34m+\u001b[0m \u001b[0mM\u001b[0m\u001b[0;34m[\u001b[0m\u001b[0mt\u001b[0m\u001b[0;34m,\u001b[0m \u001b[0;34m:\u001b[0m\u001b[0;34m,\u001b[0m \u001b[0;34m:\u001b[0m\u001b[0;34m]\u001b[0m \u001b[0;34m*\u001b[0m \u001b[0mSignMatrix\u001b[0m\u001b[0;34m[\u001b[0m\u001b[0mt\u001b[0m\u001b[0;34m,\u001b[0m \u001b[0;34m:\u001b[0m\u001b[0;34m,\u001b[0m \u001b[0;34m:\u001b[0m\u001b[0;34m]\u001b[0m \u001b[0;34m*\u001b[0m \u001b[0;34m(\u001b[0m\u001b[0mnp\u001b[0m\u001b[0;34m.\u001b[0m\u001b[0mmatmul\u001b[0m\u001b[0;34m(\u001b[0m\u001b[0mC\u001b[0m \u001b[0;34m,\u001b[0m \u001b[0mAnew\u001b[0m\u001b[0;34m)\u001b[0m\u001b[0;34m)\u001b[0m\u001b[0;34m[\u001b[0m\u001b[0;34m:\u001b[0m\u001b[0;34m,\u001b[0m\u001b[0mn\u001b[0m\u001b[0;34m:\u001b[0m\u001b[0mn\u001b[0m\u001b[0;34m+\u001b[0m\u001b[0;36m1\u001b[0m\u001b[0;34m]\u001b[0m\u001b[0;34m\u001b[0m\u001b[0;34m\u001b[0m\u001b[0m\n\u001b[0m\u001b[1;32m     30\u001b[0m             \u001b[0mAnew\u001b[0m \u001b[0;34m=\u001b[0m \u001b[0mnp\u001b[0m\u001b[0;34m.\u001b[0m\u001b[0mmatmul\u001b[0m\u001b[0;34m(\u001b[0m\u001b[0mAnew\u001b[0m\u001b[0;34m,\u001b[0m \u001b[0mA\u001b[0m\u001b[0;34m)\u001b[0m\u001b[0;34m\u001b[0m\u001b[0;34m\u001b[0m\u001b[0m\n\u001b[1;32m     31\u001b[0m         \u001b[0mderivative\u001b[0m\u001b[0;34m[\u001b[0m\u001b[0mn\u001b[0m\u001b[0;34m,\u001b[0m \u001b[0;36m0\u001b[0m\u001b[0;34m]\u001b[0m \u001b[0;34m=\u001b[0m \u001b[0mnp\u001b[0m\u001b[0;34m.\u001b[0m\u001b[0msum\u001b[0m\u001b[0;34m(\u001b[0m\u001b[0mSum\u001b[0m \u001b[0;34m*\u001b[0m \u001b[0mCalc\u001b[0m\u001b[0;34m)\u001b[0m\u001b[0;34m\u001b[0m\u001b[0;34m\u001b[0m\u001b[0m\n",
      "\u001b[0;31mKeyboardInterrupt\u001b[0m: "
     ]
    },
    {
     "data": {
      "text/plain": [
       "<Figure size 432x288 with 0 Axes>"
      ]
     },
     "metadata": {},
     "output_type": "display_data"
    }
   ],
   "source": [
    "# Running the full project\n",
    "# Estimated time = 15 hours (choosing 10000 iterations per simulation)\n",
    "\n",
    "T = 500 # Timesteps\n",
    "P = 12  # Total Sensors/Outputs\n",
    "N = 12  # Total States\n",
    "\n",
    "e = np.zeros((12, 10, 12)) # no. of sensors attacked, which simulation, which sensor\n",
    "for q in range(0, 12):\n",
    "    for simulation in range(0, 10):\n",
    "        \n",
    "        #  Generating Attack\n",
    "        sensors = random.sample(range(12), 12 - q)\n",
    "        E = np.random.normal(0, 3, (T, P, 1))  # Error Vector\n",
    "        for i in sensors:\n",
    "            E[:, i ,:] = 0\n",
    "        \n",
    "        # Generating Attacked Outputs\n",
    "        Y  = np.zeros((T , P , 1))\n",
    "        Xa = np.zeros((T , N , 1))\n",
    "        Xa[0, :, :] = initialstate\n",
    "\n",
    "        for t in range(0 , T - 1):\n",
    "            Y[ t     , : , :]  = np.matmul(C, Xa[t , : , :]) + E[t , : , :]\n",
    "            Xa[t + 1 , : , :]  = np.matmul(A, Xa[t , : , :]) + np.matmul(B , np.matmul(F , Y[t , : , :]))\n",
    "        Y[T - 1 , : , :] = np.matmul(C, Xa[T - 1 , : , :])\n",
    "        \n",
    "        # Estimating x using gradient descent\n",
    "        X = np.zeros((N,1))  # initial guess\n",
    "        x_plot = []\n",
    "        iterations = 0\n",
    "\n",
    "        while iterations < 10000:\n",
    "            delLoss = GradientMatrix(X)\n",
    "            X = X - 0.001 * delLoss\n",
    "            x_plot.append(np.sum(np.abs(X-initialstate)))\n",
    "            iterations = iterations + 1\n",
    "            \n",
    "#         plt.plot(x_plot)\n",
    "#         plt.title(\"Error vs iterations. Sensors compromised: \" + str(q) + \", Simulation no: \" + str(simulation))\n",
    "#         plt.savefig(\"Sensors\"+str(q)+\"Graph\"+str(simulation)+\".png\")\n",
    "#         plt.clf()\n",
    "\n",
    "        e[q, simulation, :] = np.abs(np.squeeze(X - initialstate))\n",
    "        \n",
    "np.save(\"ErrorNumpy\", e)\n",
    "plt.plot(  (np.sum((np.sum(e , axis = 2) / 12), axis = 1))/10  )\n",
    "plt.title(\"Error vs Number of Sensors compromised\")\n",
    "plt.savefig(\"FinalGraph.png\")"
   ]
  },
  {
   "cell_type": "code",
   "execution_count": null,
   "metadata": {},
   "outputs": [],
   "source": []
  }
 ],
 "metadata": {
  "kernelspec": {
   "display_name": "Python 3",
   "language": "python",
   "name": "python3"
  },
  "language_info": {
   "codemirror_mode": {
    "name": "ipython",
    "version": 3
   },
   "file_extension": ".py",
   "mimetype": "text/x-python",
   "name": "python",
   "nbconvert_exporter": "python",
   "pygments_lexer": "ipython3",
   "version": "3.6.9"
  }
 },
 "nbformat": 4,
 "nbformat_minor": 2
}
